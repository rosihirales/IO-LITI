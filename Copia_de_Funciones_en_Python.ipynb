{
  "nbformat": 4,
  "nbformat_minor": 0,
  "metadata": {
    "colab": {
      "provenance": [],
      "authorship_tag": "ABX9TyPbV65g9n3qlPYHbXKmZUbc",
      "include_colab_link": true
    },
    "kernelspec": {
      "name": "python3",
      "display_name": "Python 3"
    },
    "language_info": {
      "name": "python"
    }
  },
  "cells": [
    {
      "cell_type": "markdown",
      "metadata": {
        "id": "view-in-github",
        "colab_type": "text"
      },
      "source": [
        "<a href=\"https://colab.research.google.com/github/rosihirales/IO-LITI/blob/main/Copia_de_Funciones_en_Python.ipynb\" target=\"_parent\"><img src=\"https://colab.research.google.com/assets/colab-badge.svg\" alt=\"Open In Colab\"/></a>"
      ]
    },
    {
      "cell_type": "markdown",
      "source": [
        "# **¿Qué son las funciones en Python?**\n",
        "\n",
        "En Python, las funciones son bloques de código reutilizables que realizan una tarea específica. Permiten dividir un programa en partes más pequeñas y manejables, lo que hace que el código sea más fácil de leer, entender y mantener."
      ],
      "metadata": {
        "id": "NX18_IVHT1j_"
      }
    },
    {
      "cell_type": "markdown",
      "source": [
        "# Creación de una función\n",
        "\n",
        "Para crear una función en Python, se utiliza la palabra reservada def, seguida del nombre de la función, paréntesis y dos puntos : El código de la función se escribe debajo, indentado ( hacer espacios hacia la derecha para mover una línea de código).\n",
        "\n",
        "Por ejemplo, aquí está una función simple que imprime un saludo:"
      ],
      "metadata": {
        "id": "T_gyBmbxk9rC"
      }
    },
    {
      "cell_type": "code",
      "source": [
        "def saludar():\n",
        "   print(\"¡Hola, bienvenido!\")"
      ],
      "metadata": {
        "id": "2LctAGCRlKdP"
      },
      "execution_count": null,
      "outputs": []
    },
    {
      "cell_type": "markdown",
      "source": [
        "En este ejemplo, saludar es el nombre de la función. Cuando se llama a esta función, se ejecutará el código que hay dentro de ella, en este caso, se imprimirá ¡Hola, bienvenido!."
      ],
      "metadata": {
        "id": "Y0DXiN9dldGw"
      }
    },
    {
      "cell_type": "markdown",
      "source": [
        "# Llamando a una función\n",
        "\n",
        "Para llamar a una función, simplemente escriba su nombre, seguido de paréntesis ().\n",
        "\n",
        "Continuando con el ejemplo anterior, si queremos llamar a la función saludar, escribiríamos lo siguiente:"
      ],
      "metadata": {
        "id": "XmWAD-VhluIs"
      }
    },
    {
      "cell_type": "markdown",
      "source": [
        "Esto imprimirá ¡Hola, bienvenido! en la consola."
      ],
      "metadata": {
        "id": "79mgFr7hl48M"
      }
    },
    {
      "cell_type": "markdown",
      "source": [
        "# **Funciones más comunes en Python**\n",
        "\n",
        "En Python, hay muchas funciones integradas (también conocidas como funciones predefinidas) que se pueden usar directamente sin necesidad de crearlas. Aquí están algunas de las funciones más comunes en Python:\n",
        "\n",
        "    1. print(): Esta función se utiliza para imprimir en la consola o en la salida estándar de la aplicación. Se utiliza comúnmente para imprimir mensajes o resultados.\n",
        "\n",
        "    2. input(): Esta función se utiliza para recibir una entrada del usuario en la consola. El valor ingresado se devuelve como una cadena de texto.\n",
        "\n",
        "    3. len(): Esta función se utiliza para obtener la longitud de una lista, cadena de texto, tupla o cualquier otro objeto iterable.\n",
        "\n",
        "    4. range(): Esta función se utiliza para generar una secuencia de números en un rango específico.\n",
        "\n",
        "    5. type(): Esta función se utiliza para obtener el tipo de un objeto.\n",
        "\n",
        "    6. int(), float(), str(): Estas funciones se utilizan para convertir un objeto a un entero, punto flotante o cadena de texto, respectivamente.\n",
        "\n",
        "    7. max(), min(): Estas funciones se utilizan para obtener el valor máximo o mínimo de una lista o un objeto iterable.\n",
        "\n",
        "    8. sum(): Esta función se utiliza para obtener la suma de los elementos de una lista o un objeto iterable\n",
        "\n",
        "    9. sorted(): Esta función se utiliza para ordenar una lista en orden ascendente\n",
        "    \n",
        "    10. zip(): Esta función se utiliza para combinar dos o más listas en una lista de tuplas.\n",
        "\n",
        "  "
      ],
      "metadata": {
        "id": "3ZGl4tIll6Z_"
      }
    },
    {
      "cell_type": "markdown",
      "source": [
        "# Ejemplo de códigos para cada función"
      ],
      "metadata": {
        "id": "GnCjE9xYn5vt"
      }
    },
    {
      "cell_type": "code",
      "source": [
        "#'print()':\n",
        "print(\"¡Hola, mundo!\")"
      ],
      "metadata": {
        "id": "r3G5zc2zn-_W",
        "colab": {
          "base_uri": "https://localhost:8080/"
        },
        "outputId": "91f9a157-51ab-4554-cb25-5ba3849789bc"
      },
      "execution_count": null,
      "outputs": [
        {
          "output_type": "stream",
          "name": "stdout",
          "text": [
            "¡Hola, mundo!\n"
          ]
        }
      ]
    },
    {
      "cell_type": "code",
      "source": [
        "#'impunt()':\n",
        "nombre = input(\"Por favor ingrese su nombre: \")\n",
        "print(f\"Hola, {nombre}!\")"
      ],
      "metadata": {
        "colab": {
          "base_uri": "https://localhost:8080/"
        },
        "id": "HV9RePhWoJKW",
        "outputId": "970f2df7-c391-4647-ce24-5cb0f71ce190"
      },
      "execution_count": null,
      "outputs": [
        {
          "output_type": "stream",
          "name": "stdout",
          "text": [
            "Por favor ingrese su nombre: Rosa\n",
            "Hola, Rosa!\n"
          ]
        }
      ]
    },
    {
      "cell_type": "code",
      "source": [
        "#'len()':\n",
        "lista = [1, 2, 3, 4, 5]\n",
        "longitud = len(lista)\n",
        "print(f\"La longitud de la lista es {longitud}\")\n",
        "#Este código creará una lista de números, la asignará a la variable lista, y luego utilizará la función len() para obtener su longitud. El resultado se imprimirá en la consola."
      ],
      "metadata": {
        "colab": {
          "base_uri": "https://localhost:8080/"
        },
        "id": "_WEZt_tEoW03",
        "outputId": "f189a3da-0b94-459a-c868-e1a05ed7e80c"
      },
      "execution_count": null,
      "outputs": [
        {
          "output_type": "stream",
          "name": "stdout",
          "text": [
            "La longitud de la lista es 5\n"
          ]
        }
      ]
    },
    {
      "cell_type": "code",
      "source": [
        "#'range()':\n",
        "for i in range(1, 11):\n",
        "    print(i)\n",
        "#Este código generará una secuencia de números del 1 al 10 utilizando la función range(). Luego, imprimirá cada número en la consola."
      ],
      "metadata": {
        "colab": {
          "base_uri": "https://localhost:8080/"
        },
        "id": "e5ykfTcforLn",
        "outputId": "b283ec88-c3ee-4216-8a57-228c6696f1d9"
      },
      "execution_count": null,
      "outputs": [
        {
          "output_type": "stream",
          "name": "stdout",
          "text": [
            "1\n",
            "2\n",
            "3\n",
            "4\n",
            "5\n",
            "6\n",
            "7\n",
            "8\n",
            "9\n",
            "10\n"
          ]
        }
      ]
    },
    {
      "cell_type": "code",
      "source": [
        "#'type()':\n",
        "numero = 42\n",
        "tipo = type(numero)\n",
        "print(f\"El tipo de variable 'numero' es {tipo}\")\n",
        "#Este código creará una variable numero con el valor 42, utilizará la función type() para obtener su tipo y luego imprimirá el resultado en la consola."
      ],
      "metadata": {
        "colab": {
          "base_uri": "https://localhost:8080/"
        },
        "id": "1zB6wK9Ko5WH",
        "outputId": "3ba824b0-22dd-4cee-8257-4f22aea46317"
      },
      "execution_count": null,
      "outputs": [
        {
          "output_type": "stream",
          "name": "stdout",
          "text": [
            "El tipo de variable 'numero' es <class 'int'>\n"
          ]
        }
      ]
    },
    {
      "cell_type": "code",
      "source": [
        "#int(), float(), str():\n",
        "numero = \"123\"\n",
        "entero = int(numero)\n",
        "flotante = float(numero)\n",
        "cadena = str(entero)\n",
        "print(f\"numero: {numero}, entero: {entero}, flotante: {flotante}, cadena: {cadena}\")\n",
        "#Este código creará una variable texto con el valor \"123\" como cadena de texto. Luego, utilizará las funciones int(), float() y str() para convertir texto a un entero,\n",
        "#un punto flotante y una cadena de texto, respectivamente. Finalmente, imprimirá los resultados en la consola."
      ],
      "metadata": {
        "colab": {
          "base_uri": "https://localhost:8080/"
        },
        "id": "HbyjTtQ1pKcu",
        "outputId": "7ffdd467-4e45-496a-b0e0-baf491ef7765"
      },
      "execution_count": null,
      "outputs": [
        {
          "output_type": "stream",
          "name": "stdout",
          "text": [
            "numero: 123, entero: 123, flotante: 123.0, cadena: 123\n"
          ]
        }
      ]
    },
    {
      "cell_type": "code",
      "source": [
        "#max(), min(), sum():\n",
        "lista = [5, 3, 8, 1, 6]\n",
        "maximo = max(lista)\n",
        "minimo = min(lista)\n",
        "suma = sum(lista)\n",
        "print(f\"maximo: {maximo}, minimo: {minimo}, suma: {suma}\")\n",
        "#ste código creará una lista de números, la asignará a la variable lista, y luego utilizará las funciones max(), min() y sum()\n",
        "#para obtener su valor máximo, valor mínimo y suma, respectivamente. Los resultados se imprimirán en la consola."
      ],
      "metadata": {
        "colab": {
          "base_uri": "https://localhost:8080/"
        },
        "id": "eYJtzzmwpgZK",
        "outputId": "fa6eaffd-e62a-4845-a6a9-cb39304de9f2"
      },
      "execution_count": null,
      "outputs": [
        {
          "output_type": "stream",
          "name": "stdout",
          "text": [
            "maximo: 8, minimo: 1, suma: 23\n"
          ]
        }
      ]
    },
    {
      "cell_type": "code",
      "source": [
        "#'sorted()':\n",
        "lista = [5, 3, 8, 1, 6]\n",
        "ordenada = sorted(lista)\n",
        "print(f\"lista original: {lista}, lista ordenada: {ordenada}\")\n",
        "#Este código creará una lista de números, la asignará a la variable lista, y luego utilizará la función sorted() para ordenarla en orden ascendente."
      ],
      "metadata": {
        "colab": {
          "base_uri": "https://localhost:8080/"
        },
        "id": "7_Pup63Mprn8",
        "outputId": "31e44986-997d-41f3-ac4a-1a46cd92595b"
      },
      "execution_count": null,
      "outputs": [
        {
          "output_type": "stream",
          "name": "stdout",
          "text": [
            "lista original: [5, 3, 8, 1, 6], lista ordenada: [1, 3, 5, 6, 8]\n"
          ]
        }
      ]
    },
    {
      "cell_type": "code",
      "source": [
        "#zip():\n",
        "nombres = [\"Juan\", \"Maria\", \"Pedro\"]\n",
        "edades = [25, 30, 35]\n",
        "lista_combinada = list(zip(nombres, edades))\n",
        "print(lista_combinada)\n",
        "#Este código creará dos listas, nombres y edades, y luego utilizará la función zip() para combinarlas en una lista de tuplas que contienen un nombre y una edad."
      ],
      "metadata": {
        "colab": {
          "base_uri": "https://localhost:8080/"
        },
        "id": "0Edsohudp44_",
        "outputId": "fb0298e1-9897-4d78-b098-ded97a46968d"
      },
      "execution_count": null,
      "outputs": [
        {
          "output_type": "stream",
          "name": "stdout",
          "text": [
            "[('Juan', 25), ('Maria', 30), ('Pedro', 35)]\n"
          ]
        }
      ]
    }
  ]
}