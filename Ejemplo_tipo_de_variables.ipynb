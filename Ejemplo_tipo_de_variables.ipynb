{
  "nbformat": 4,
  "nbformat_minor": 0,
  "metadata": {
    "colab": {
      "provenance": [],
      "authorship_tag": "ABX9TyPNyHD/H9huZKHR1n9zOiHn",
      "include_colab_link": true
    },
    "kernelspec": {
      "name": "python3",
      "display_name": "Python 3"
    },
    "language_info": {
      "name": "python"
    }
  },
  "cells": [
    {
      "cell_type": "markdown",
      "metadata": {
        "id": "view-in-github",
        "colab_type": "text"
      },
      "source": [
        "<a href=\"https://colab.research.google.com/github/rosihirales/IO-LITI/blob/main/Ejemplo_tipo_de_variables.ipynb\" target=\"_parent\"><img src=\"https://colab.research.google.com/assets/colab-badge.svg\" alt=\"Open In Colab\"/></a>"
      ]
    },
    {
      "cell_type": "code",
      "execution_count": null,
      "metadata": {
        "id": "0R_5FAC5J_wg"
      },
      "outputs": [],
      "source": [
        "# Definir una variable entera (int)\n",
        "edad = 30\n",
        "\n",
        "# Definir una variable de punto flotante (float)\n",
        "precio = 19.99\n",
        "\n",
        "# Definir una variable de cadena (string)\n",
        "nombre = \"Juan\"\n",
        "\n",
        "# Definir una variable booleana (bool)\n",
        "activo = True\n",
        "\n",
        "# Imprimir los valores de las variables\n",
        "print(\"Edad:\", edad)\n",
        "print(\"Precio:\", precio)\n",
        "print(\"Nombre:\", nombre)\n",
        "print(\"Activo:\", activo)\n",
        "\n",
        "# Realizar algunas operaciones con las variables\n",
        "total = precio * 2\n",
        "saludo = \"Hola \" + nombre\n",
        "\n",
        "# Imprimir los resultados de las operaciones\n",
        "print(\"Total:\", total)\n",
        "print(\"Saludo:\", saludo)\n"
      ]
    }
  ]
}