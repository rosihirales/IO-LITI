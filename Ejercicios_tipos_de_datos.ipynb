{
  "nbformat": 4,
  "nbformat_minor": 0,
  "metadata": {
    "colab": {
      "provenance": [],
      "authorship_tag": "ABX9TyMY8OWGbXt+a0UFpEJ6H1Dt",
      "include_colab_link": true
    },
    "kernelspec": {
      "name": "python3",
      "display_name": "Python 3"
    },
    "language_info": {
      "name": "python"
    }
  },
  "cells": [
    {
      "cell_type": "markdown",
      "metadata": {
        "id": "view-in-github",
        "colab_type": "text"
      },
      "source": [
        "<a href=\"https://colab.research.google.com/github/rosihirales/IO-LITI/blob/main/Ejercicios_tipos_de_datos.ipynb\" target=\"_parent\"><img src=\"https://colab.research.google.com/assets/colab-badge.svg\" alt=\"Open In Colab\"/></a>"
      ]
    },
    {
      "cell_type": "markdown",
      "source": [
        "# Tipos de datos en Python\n"
      ],
      "metadata": {
        "id": "cLYCjjrgUAze"
      }
    },
    {
      "cell_type": "code",
      "execution_count": null,
      "metadata": {
        "id": "b7dn505d2dqF"
      },
      "outputs": [],
      "source": [
        "#recordando los tipos de datos en Phyton\n",
        "#Entero (int)\n",
        "entero = 5\n",
        "print(entero)"
      ]
    },
    {
      "cell_type": "code",
      "source": [
        "#decimal flotante (float)\n",
        "flotante = 3.14\n",
        "print(flotante)\n"
      ],
      "metadata": {
        "colab": {
          "base_uri": "https://localhost:8080/"
        },
        "id": "KMgFgXU5SDIr",
        "outputId": "68510e2f-39ad-4cda-f5ae-5230386558c8"
      },
      "execution_count": null,
      "outputs": [
        {
          "output_type": "stream",
          "name": "stdout",
          "text": [
            "3.14\n"
          ]
        }
      ]
    },
    {
      "cell_type": "code",
      "source": [
        "#cadena\n",
        "cadena = \"Hola mundo!\"\n",
        "print(cadena)"
      ],
      "metadata": {
        "id": "O93WdqOeSqsY"
      },
      "execution_count": null,
      "outputs": []
    },
    {
      "cell_type": "code",
      "source": [
        "#funcion join para cadena\n",
        "mis_palabras = [\"Hola\", \"mundo\", \"!\"]\n",
        "mi_cadena = \" \".join(mis_palabras)\n",
        "print(mi_cadena)"
      ],
      "metadata": {
        "colab": {
          "base_uri": "https://localhost:8080/"
        },
        "id": "53eb2P6STmFh",
        "outputId": "60df2004-7b05-4b98-e42f-3396e3fb03b2"
      },
      "execution_count": null,
      "outputs": [
        {
          "output_type": "stream",
          "name": "stdout",
          "text": [
            "Hola mundo !\n"
          ]
        }
      ]
    },
    {
      "cell_type": "code",
      "source": [
        "#Tipo de dato booleanos, los valores boooleanos representan valores de tipo ''verdadero (True) y falso (False)\n",
        "type(True)\n",
        "type(False)"
      ],
      "metadata": {
        "colab": {
          "base_uri": "https://localhost:8080/"
        },
        "id": "mXwUZqTcS2Zv",
        "outputId": "8bee5287-cf67-4871-dfa2-eb1cb6c6cc1c"
      },
      "execution_count": null,
      "outputs": [
        {
          "output_type": "execute_result",
          "data": {
            "text/plain": [
              "bool"
            ]
          },
          "metadata": {},
          "execution_count": 2
        }
      ]
    },
    {
      "cell_type": "markdown",
      "source": [
        "# Otros tipos de datos en Phyton"
      ],
      "metadata": {
        "id": "zIF6n2_zTHrB"
      }
    },
    {
      "cell_type": "code",
      "source": [
        "#listas\n",
        "mi_lista = []\n",
        "mi_lista.append(\"Manzana\")\n",
        "mi_lista.append(\"Banana\")\n",
        "mi_lista.append(\"Cereza\")\n",
        "print(mi_lista)"
      ],
      "metadata": {
        "colab": {
          "base_uri": "https://localhost:8080/"
        },
        "id": "5efCsE-fTKV3",
        "outputId": "ff2d5a83-3b22-4d7f-f3a6-661bd43cd5d1"
      },
      "execution_count": null,
      "outputs": [
        {
          "output_type": "stream",
          "name": "stdout",
          "text": [
            "['Manzana', 'Banana', 'Cereza']\n"
          ]
        }
      ]
    },
    {
      "cell_type": "code",
      "source": [
        "#diccionarios\n",
        "mi_diccionario = {\"nombre\": \"Juan\", \"edad\": 30, \"ciudad\": \"Buenos Aires\"}\n",
        "print(mi_diccionario)"
      ],
      "metadata": {
        "colab": {
          "base_uri": "https://localhost:8080/"
        },
        "id": "g-i8wxgeTRtP",
        "outputId": "5942bd1e-4c22-44e2-f2d7-8c1438d493b8"
      },
      "execution_count": null,
      "outputs": [
        {
          "output_type": "stream",
          "name": "stdout",
          "text": [
            "{'nombre': 'Juan', 'edad': 30, 'ciudad': 'Buenos Aires'}\n"
          ]
        }
      ]
    }
  ]
}