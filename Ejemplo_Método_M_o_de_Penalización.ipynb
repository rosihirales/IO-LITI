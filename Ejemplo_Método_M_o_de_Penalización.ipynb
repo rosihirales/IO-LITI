{
  "nbformat": 4,
  "nbformat_minor": 0,
  "metadata": {
    "colab": {
      "provenance": [],
      "authorship_tag": "ABX9TyNaFCK9Hsijcuw1XkYxkoGJ",
      "include_colab_link": true
    },
    "kernelspec": {
      "name": "python3",
      "display_name": "Python 3"
    },
    "language_info": {
      "name": "python"
    }
  },
  "cells": [
    {
      "cell_type": "markdown",
      "metadata": {
        "id": "view-in-github",
        "colab_type": "text"
      },
      "source": [
        "<a href=\"https://colab.research.google.com/github/rosihirales/IO-LITI/blob/main/Ejemplo_M%C3%A9todo_M_o_de_Penalizaci%C3%B3n.ipynb\" target=\"_parent\"><img src=\"https://colab.research.google.com/assets/colab-badge.svg\" alt=\"Open In Colab\"/></a>"
      ]
    },
    {
      "cell_type": "markdown",
      "source": [
        "##Método de la Gran M o Penalización\n",
        "\n",
        "\n",
        "Este notebook explica el Método de la Gran M o de Penalización, utilizado en la Programación Lineal para resolver problemas con restricciones de desigualdad y variables artificiales.\n"
      ],
      "metadata": {
        "id": "V9mkbEbxqKbM"
      }
    },
    {
      "cell_type": "markdown",
      "source": [
        "## ¿Qué es el Método de la Gran M o Penalización?\n",
        "El Método de la Gran M es una técnica en Programación Lineal que permite resolver problemas de optimización con restricciones de desigualdad (≥ o ≤). La \"M\" representa un valor muy grande, que actúa como una penalización para forzar las variables artificiales a ser cero en la solución óptima.\n",
        "\n",
        "### Pasos principales:\n",
        "1. **Formulación del problema**: Convertir las restricciones de desigualdad en igualdad agregando variables de holgura o excedente.\n",
        "2. **Introducción de variables artificiales**: Para restricciones de igualdad o de ≥, agregamos variables artificiales.\n",
        "3. **Asignación de la penalización**: En la función objetivo, asignamos un coeficiente de penalización \"M\" a las variables artificiales.\n",
        "4. **Aplicación del Método Simplex**: El problema se resuelve usando el método Simplex tradicional, pero incluyendo las penalizaciones.\n",
        "\n"
      ],
      "metadata": {
        "id": "b1_p580PrMNQ"
      }
    },
    {
      "cell_type": "markdown",
      "source": [
        "Ejemplo:\n",
        "\n",
        "Maximizar ![imagen.png](data:image/png;base64,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)\n",
        "\n",
        "Suejto a : ![imagen.png](data:image/png;base64,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)"
      ],
      "metadata": {
        "id": "B2zcAI-Buqku"
      }
    },
    {
      "cell_type": "markdown",
      "source": [
        "Paso 1. Convertir las restricciones en igualdades\n",
        "\n",
        "\n",
        " Primera restricción:\n",
        "\n",
        " La primera restricción es una desigualdad ≤, por lo que agregamos una variable de holgura s1:\n",
        "\n",
        "![imagen.png](data:image/png;base64,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)\n",
        "\n",
        "(se añade una variable artificial A1​ y una variable de exceso s2​).\n",
        "\n",
        "Segunda restricción:\n",
        "La segunda restricción es una desigualdad ≥, por lo que agregamos una variable artificial A1​ y una variable de excedente s2:\n",
        "\n",
        "![imagen.png](data:image/png;base64,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)\n",
        "\n",
        "La función objetivo se penaliza al agregar la variable artificial con el valor de M.\n",
        "\n",
        "Maximizar:\n",
        "\n",
        "![imagen.png](data:image/png;base64,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)\n",
        "\n"
      ],
      "metadata": {
        "id": "K8gfbgb2u7Bc"
      }
    },
    {
      "cell_type": "markdown",
      "source": [
        "##Explicación del Código:\n",
        "\n",
        "1. Definición del problema:\n",
        "* Los coeficientes de la función objetivo son c=[3,5,0,0,−M], donde el -M penaliza la variable artificial.\n",
        "\n",
        "* La matriz AA contiene las restricciones, incluida la variable de holgura s1, la variable de excedente s2​ y la variable artificial A1.\n",
        "\n",
        "* El vector b=[6,12] contiene los valores en el lado derecho de las restricciones.\n",
        "\n",
        "2. Proceso Simplex:\n",
        "\n",
        "* Elegimos la columna pivote (variable entrante) como la columna con el valor más negativo en la fila de la función objetivo.\n",
        "* Calculamos el índice de la fila pivote dividiendo los términos de la columna de soluciones entre los de la columna pivote (ignorando valores negativos).\n",
        "* Normalizamos la fila pivote y actualizamos las demás filas.\n",
        "\n",
        "3. Iteraciones: El proceso se repite hasta que no haya más valores negativos en la fila de la función objetivo, lo que indica que hemos alcanzado la solución óptima.\n"
      ],
      "metadata": {
        "id": "AeXr0T7Hv_MT"
      }
    },
    {
      "cell_type": "code",
      "source": [
        "import numpy as np\n",
        "\n",
        "# Definimos una función para imprimir la tabla simplex en cada iteración\n",
        "def print_tableau(tableau):\n",
        "    print(\"Tabla Simplex:\")\n",
        "    for row in tableau:\n",
        "        print(\"\\t\".join([f\"{x:.2f}\" for x in row]))\n",
        "    print()\n",
        "\n",
        "# Método Simplex con Gran M\n",
        "def simplex_gran_m(c, A, b, M_value):\n",
        "    \"\"\"\n",
        "    Implementación del método simplex con la Gran M.\n",
        "    c: coeficientes de la función objetivo penalizada (incluye -M para variables artificiales)\n",
        "    A: matriz de restricciones (incluye variables artificiales)\n",
        "    b: valores del lado derecho de las restricciones\n",
        "    M_value: valor de M (un número muy grande)\n",
        "    \"\"\"\n",
        "    num_vars = len(c)  # Número total de variables (x1, x2, s1, s2, A1)\n",
        "\n",
        "    # Crear la tabla inicial (Aumentamos con Z row y b)\n",
        "    tableau = np.zeros((A.shape[0] + 1, A.shape[1] + 1))\n",
        "    tableau[:-1, :-1] = A\n",
        "    tableau[:-1, -1] = b\n",
        "    tableau[-1, :-1] = -c  # Los coeficientes de la función objetivo, con M penalizado\n",
        "\n",
        "    print(\"Tabla inicial:\")\n",
        "    print_tableau(tableau)\n",
        "\n",
        "    # Proceso iterativo del Método Simplex\n",
        "    while np.min(tableau[-1, :-1]) < 0:\n",
        "        # Elegir columna pivote (variable entrante)\n",
        "        pivot_col = np.argmin(tableau[-1, :-1])\n",
        "\n",
        "        # Verificamos cuál es la fila pivote\n",
        "        ratios = tableau[:-1, -1] / tableau[:-1, pivot_col]\n",
        "        valid_ratios = [ratio if ratio > 0 else float('inf') for ratio in ratios]\n",
        "        pivot_row = np.argmin(valid_ratios)\n",
        "\n",
        "        # Pivote\n",
        "        pivot_element = tableau[pivot_row, pivot_col]\n",
        "        tableau[pivot_row, :] /= pivot_element\n",
        "\n",
        "        # Actualización del resto de las filas\n",
        "        for i in range(tableau.shape[0]):\n",
        "            if i != pivot_row:\n",
        "                tableau[i, :] -= tableau[i, pivot_col] * tableau[pivot_row, :]\n",
        "\n",
        "        print(f\"Iteración (Columna pivote: {pivot_col}, Fila pivote: {pivot_row}):\")\n",
        "        print_tableau(tableau)\n",
        "\n",
        "    # Retornar el valor óptimo de la función objetivo y las variables\n",
        "    solution = tableau[:-1, -1]\n",
        "    Z_opt = tableau[-1, -1]\n",
        "    return solution, Z_opt\n",
        "\n",
        "# Definimos el problema\n",
        "# Coeficientes de la función objetivo penalizada (incluye -M para A1)\n",
        "c = np.array([3, 5, 0, 0, -1e6])\n",
        "\n",
        "# Matriz de restricciones\n",
        "A = np.array([\n",
        "    [1, 2, 1, 0, 0],  # x1 + 2x2 + s1 = 6\n",
        "    [3, 2, 0, -1, 1]  # 3x1 + 2x2 - s2 + A1 = 12\n",
        "])\n",
        "\n",
        "# Lado derecho de las restricciones\n",
        "b = np.array([6, 12])\n",
        "\n",
        "# Valor de M (un número muy grande)\n",
        "M_value = 1e6\n",
        "\n",
        "# Ejecutamos el método simplex con la Gran M\n",
        "solution, Z_opt = simplex_gran_m(c, A, b, M_value)\n",
        "\n",
        "# Mostramos la solución\n",
        "print(\"Solución óptima:\")\n",
        "print(f\"Variables de decisión: {solution[:-1]}\")  # Excluimos la variable artificial\n",
        "print(f\"Valor óptimo de Z: {Z_opt}\")\n"
      ],
      "metadata": {
        "colab": {
          "base_uri": "https://localhost:8080/"
        },
        "id": "boQ3hZp_1onJ",
        "outputId": "83a5a0f1-bbe5-4c9a-e45d-fbda5bdc1c10"
      },
      "execution_count": 16,
      "outputs": [
        {
          "output_type": "stream",
          "name": "stdout",
          "text": [
            "Tabla inicial:\n",
            "Tabla Simplex:\n",
            "1.00\t2.00\t1.00\t0.00\t0.00\t6.00\n",
            "3.00\t2.00\t0.00\t-1.00\t1.00\t12.00\n",
            "-3.00\t-5.00\t-0.00\t-0.00\t1000000.00\t0.00\n",
            "\n",
            "Iteración (Columna pivote: 1, Fila pivote: 0):\n",
            "Tabla Simplex:\n",
            "0.50\t1.00\t0.50\t0.00\t0.00\t3.00\n",
            "2.00\t0.00\t-1.00\t-1.00\t1.00\t6.00\n",
            "-0.50\t0.00\t2.50\t0.00\t1000000.00\t15.00\n",
            "\n",
            "Iteración (Columna pivote: 0, Fila pivote: 1):\n",
            "Tabla Simplex:\n",
            "0.00\t1.00\t0.75\t0.25\t-0.25\t1.50\n",
            "1.00\t0.00\t-0.50\t-0.50\t0.50\t3.00\n",
            "0.00\t0.00\t2.25\t-0.25\t1000000.25\t16.50\n",
            "\n",
            "Iteración (Columna pivote: 3, Fila pivote: 0):\n",
            "Tabla Simplex:\n",
            "0.00\t4.00\t3.00\t1.00\t-1.00\t6.00\n",
            "1.00\t2.00\t1.00\t0.00\t0.00\t6.00\n",
            "0.00\t1.00\t3.00\t0.00\t1000000.00\t18.00\n",
            "\n",
            "Solución óptima:\n",
            "Variables de decisión: [6.]\n",
            "Valor óptimo de Z: 18.0\n"
          ]
        }
      ]
    },
    {
      "cell_type": "markdown",
      "source": [
        "## Resultado:\n",
        "\n",
        "\n",
        "Variables de decisión: x1=6 y x2​=0 es la solución que maximiza la función objetivo.\n",
        "\n",
        "Esto es coherente con las restricciones del problema, porque:\n",
        "\n",
        "* Si x1=6, entonces en la primera restricción x1+2x2=6 se cumple perfectamente.\n",
        "* En la segunda restricción, si x1=6 y x2=0, entonces 3x1+2x2=18, lo cual es mayor que 12, por lo que también se cumple.\n",
        "\n",
        "\n",
        "#Valor óptimo de la función objetivo: Z=18\n",
        "\n",
        "*Si sustituimos x1=6 y x2=0 en la función objetivo Z=3x1+5x2, obtenemos Z=3(6)+5(0)=18, que es el valor máximo alcanzable para este problema dadas las restricciones."
      ],
      "metadata": {
        "id": "KHy7o__u1qbW"
      }
    }
  ]
}