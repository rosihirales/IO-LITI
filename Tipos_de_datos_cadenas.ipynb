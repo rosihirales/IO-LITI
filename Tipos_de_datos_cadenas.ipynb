{
  "nbformat": 4,
  "nbformat_minor": 0,
  "metadata": {
    "colab": {
      "provenance": [],
      "authorship_tag": "ABX9TyNqIY0xCrzQ+PyHG4CbRWmo",
      "include_colab_link": true
    },
    "kernelspec": {
      "name": "python3",
      "display_name": "Python 3"
    },
    "language_info": {
      "name": "python"
    }
  },
  "cells": [
    {
      "cell_type": "markdown",
      "metadata": {
        "id": "view-in-github",
        "colab_type": "text"
      },
      "source": [
        "<a href=\"https://colab.research.google.com/github/rosihirales/IO-LITI/blob/main/Tipos_de_datos_cadenas.ipynb\" target=\"_parent\"><img src=\"https://colab.research.google.com/assets/colab-badge.svg\" alt=\"Open In Colab\"/></a>"
      ]
    },
    {
      "cell_type": "markdown",
      "source": [
        "# Tipos de datos : cadenas\n",
        "\n",
        "En programación, trabajar con texto es una tarea común y esencial en muchos proyectos. Por lo tanto, es importante entender los diferentes tipos de datos de cadena en Python y cómo trabajar con ellos.\n",
        "\n",
        "En Python, hay dos tipos de datos de cadena: cadenas de caracteres y cadenas de bytes. Las cadenas de caracteres son secuencias de caracteres Unicode, mientras que las cadenas de bytes son secuencias de bytes brutos. Es importante tener en cuenta la diferencia entre estas dos para evitar errores y comprender cómo trabajar con ellas.\n",
        "\n",
        "En esta clase, exploraremos ambos tipos de datos de cadena en Python. Aprenderemos cómo manipular cadenas de caracteres y cadenas de bytes, realizando operaciones comunes como concatenación, indexación, slicing, comparación y formateo. También veremos cómo utilizar los métodos de cadena de Python para manipular texto de manera efectiva."
      ],
      "metadata": {
        "id": "PP9o04eMA4iV"
      }
    },
    {
      "cell_type": "markdown",
      "source": [
        "# Concatenación de cadenas:\n",
        "\n",
        "La concatenación de cadenas es la unión de dos o más cadenas para formar una nueva cadena. En Python, se realiza con el operador \"+\" para cadenas de caracteres y el operador \"+\" con el prefijo \"b\" para cadenas de bytes. Por ejemplo:"
      ],
      "metadata": {
        "id": "4GEUxQe1C-qP"
      }
    },
    {
      "cell_type": "code",
      "source": [
        "# Concatenación de cadenas de caracteres\n",
        "saludo ='Hola'\n",
        "nombre ='Mundo'\n",
        "mensaje = saludo + ' ' + nombre\n",
        "\n",
        "# Concatenación de cadenas de bytes\n",
        "datos1 = b'Hello'\n",
        "datos2 = b'World'\n",
        "datos = datos1 + b' ' + datos2\n",
        "print(saludo)\n",
        "print(nombre)\n",
        "print(mensaje)\n",
        "print(datos1)\n",
        "print(datos2)\n",
        "print(datos)"
      ],
      "metadata": {
        "colab": {
          "base_uri": "https://localhost:8080/"
        },
        "id": "3wLDaricDB5T",
        "outputId": "5934952f-b1d9-4048-c983-6ab3de820b9f"
      },
      "execution_count": null,
      "outputs": [
        {
          "output_type": "stream",
          "name": "stdout",
          "text": [
            "Hola\n",
            "Mundo\n",
            "Hola Mundo\n",
            "b'Hello'\n",
            "b'World'\n",
            "b'Hello World'\n"
          ]
        }
      ]
    },
    {
      "cell_type": "markdown",
      "source": [
        "Ejercicio\n",
        "\n",
        "Escribir un programa que pregunte el nombre del usuario en la consola y después de que el usuario lo introduzca muestre por pantalla la cadena ¡Hola <nombre>!, donde <nombre> es el nombre que el usuario haya introducido.\n"
      ],
      "metadata": {
        "id": "VuMQ5KhL0nzY"
      }
    },
    {
      "cell_type": "code",
      "source": [
        "nombre = input(\"Introduce tu nombre: \")\n",
        "print(\"¡Hola \" + nombre + \"!\")"
      ],
      "metadata": {
        "colab": {
          "base_uri": "https://localhost:8080/"
        },
        "id": "X63DGb2M0sC8",
        "outputId": "31df6296-f13c-4f56-9223-13949faeb171"
      },
      "execution_count": null,
      "outputs": [
        {
          "output_type": "stream",
          "name": "stdout",
          "text": [
            "Introduce tu nombre: Rosa\n",
            "¡Hola Rosa!\n"
          ]
        }
      ]
    },
    {
      "cell_type": "markdown",
      "source": [
        "# Indexación y slicing de cadenas:\n",
        "\n",
        "La indexación y slicing se utilizan para acceder a elementos individuales o subcadenas de una cadena. En Python, los índices comienzan en 0 y se pueden utilizar números negativos para acceder a elementos desde el final de la cadena. El slicing se realiza mediante el uso de dos puntos \":\" para especificar el rango de elementos a acceder. Por ejemplo:"
      ],
      "metadata": {
        "id": "rspWm0-5EJ-7"
      }
    },
    {
      "cell_type": "code",
      "source": [
        "# Indexación y slicing de cadenas de caracteres\n",
        "mensaje = 'Hola Mundo!'\n",
        "print(mensaje[0])  # Imprime \"H\"\n",
        "print(mensaje[-1])  # Imprime \"!\"\n",
        "print(mensaje[0:4])  # Imprime \"Hola\"\n",
        "print(mensaje[5:])  # Imprime \"Mundo!\"\n",
        "\n",
        "# Indexación y slicing de cadenas de bytes\n",
        "datos = b'Hello World!'\n",
        "print(datos[0])  # Imprime 72 (valor ASCII de 'H')\n",
        "print(datos[-1])  # Imprime 33 (valor ASCII de '!')\n",
        "print(datos[0:5])  # Imprime b'Hello'\n",
        "print(datos[6:])  # Imprime b'World!'\n"
      ],
      "metadata": {
        "colab": {
          "base_uri": "https://localhost:8080/"
        },
        "id": "t9XHy1bM1pdk",
        "outputId": "31f4f830-a646-42a1-d20d-e06f62cfb0ea"
      },
      "execution_count": null,
      "outputs": [
        {
          "output_type": "stream",
          "name": "stdout",
          "text": [
            "H\n",
            "!\n",
            "Hola\n",
            "Mundo!\n",
            "72\n",
            "33\n",
            "b'Hello'\n",
            "b'World!'\n"
          ]
        }
      ]
    },
    {
      "cell_type": "markdown",
      "source": [
        "# Comparación de cadenas:\n",
        "La comparación de cadenas se utiliza para determinar si dos cadenas son iguales o diferentes. En Python, se utiliza el operador \"==\" para cadenas de caracteres y el operador \"==\" con el prefijo \"b\" para cadenas de bytes. Por ejemplo:"
      ],
      "metadata": {
        "id": "BVZrfMGj1-x2"
      }
    },
    {
      "cell_type": "code",
      "source": [
        "# Comparación de cadenas de caracteres\n",
        "mensaje1 = 'Hola Mundo!'\n",
        "mensaje2 = 'Hola mundo!'\n",
        "if mensaje1 == mensaje2:\n",
        "    print('Los mensajes son iguales')\n",
        "else:\n",
        "    print('Los mensajes son diferentes')\n",
        "\n",
        "# Comparación de cadenas de bytes\n",
        "datos1 = b'Hello World!'\n",
        "datos2 = b'hello world!'\n",
        "if datos1 == datos2:\n",
        "    print('Los datos son iguales')\n",
        "else:\n",
        "    print('Los datos son diferentes')\n"
      ],
      "metadata": {
        "colab": {
          "base_uri": "https://localhost:8080/"
        },
        "id": "K-QgHpvb2EyX",
        "outputId": "61f85f39-5da9-4e86-98b6-c3ca14b5a376"
      },
      "execution_count": null,
      "outputs": [
        {
          "output_type": "stream",
          "name": "stdout",
          "text": [
            "Los mensajes son diferentes\n",
            "Los datos son diferentes\n"
          ]
        }
      ]
    },
    {
      "cell_type": "markdown",
      "source": [
        "En este caso, el primer mensaje será \"Los mensajes son diferentes\" ya que la comparación de cadenas de caracteres es sensible a mayúsculas y minúsculas. El segundo mensaje será \"Los datos son diferentes\" ya que la comparación de cadenas de bytes es sensible a todos los caracteres, incluyendo los caracteres de control"
      ],
      "metadata": {
        "id": "hllHU52N2WoM"
      }
    }
  ]
}